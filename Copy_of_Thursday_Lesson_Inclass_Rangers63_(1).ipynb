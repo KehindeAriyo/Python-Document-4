{
  "cells": [
    {
      "cell_type": "markdown",
      "metadata": {
        "id": "458kI4wQYSYz"
      },
      "source": [
        "# Object-Oriented-Programming (OOP)"
      ]
    },
    {
      "cell_type": "markdown",
      "metadata": {
        "id": "7B7o7NjdYSY5"
      },
      "source": [
        "## Tasks Today:\n",
        "\n",
        "   \n",
        "\n",
        "1) <b>Creating a Class (Initializing/Declaring)</b> <br>\n",
        "2) <b>Using a Class (Instantiating)</b> <br>\n",
        " &nbsp;&nbsp;&nbsp;&nbsp; a) Creating One Instance <br>\n",
        " &nbsp;&nbsp;&nbsp;&nbsp; b) Creating Multiple Instances <br>\n",
        " &nbsp;&nbsp;&nbsp;&nbsp; c) In-Class Exercise #1 - Create a Class 'Car' and instantiate three different makes of cars <br>\n",
        "3) <b>The \\__init\\__() Method</b> <br>\n",
        " &nbsp;&nbsp;&nbsp;&nbsp; a) The 'self' Attribute <br>\n",
        "4) <b>Class Attributes</b> <br>\n",
        " &nbsp;&nbsp;&nbsp;&nbsp; a) Initializing Attributes <br>\n",
        " &nbsp;&nbsp;&nbsp;&nbsp; b) Setting an Attribute Outside of the \\__init\\__() Method <br>\n",
        " &nbsp;&nbsp;&nbsp;&nbsp; c) Setting Defaults for Attributes <br>\n",
        " &nbsp;&nbsp;&nbsp;&nbsp; d) Accessing Class Attributes <br>\n",
        " &nbsp;&nbsp;&nbsp;&nbsp; e) Changing Class Attributes <br>\n",
        " &nbsp;&nbsp;&nbsp;&nbsp; f) In-Class Exercise #2 - Add a color and wheels attribute to your 'Car' class <br>\n",
        "5) <b>Class Methods</b> <br>\n",
        " &nbsp;&nbsp;&nbsp;&nbsp; a) Creating <br>\n",
        " &nbsp;&nbsp;&nbsp;&nbsp; b) Calling <br>\n",
        " &nbsp;&nbsp;&nbsp;&nbsp; c) Modifying an Attribute's Value Through a Method <br>\n",
        " &nbsp;&nbsp;&nbsp;&nbsp; d) Incrementing an Attribute's Value Through a Method <br>\n",
        " &nbsp;&nbsp;&nbsp;&nbsp; e) In-Class Exercise #3 - Add a method that prints the cars color and wheel number, then call them <br>\n",
        "6) <b>Inheritance</b> <br>\n",
        " &nbsp;&nbsp;&nbsp;&nbsp; a) Syntax for Inheriting from a Parent Class <br>\n",
        " &nbsp;&nbsp;&nbsp;&nbsp; b) The \\__init\\__() Method for a Child Class (super()) <br>\n",
        " &nbsp;&nbsp;&nbsp;&nbsp; c) Defining Attributes and Methods for the Child Class <br>\n",
        " &nbsp;&nbsp;&nbsp;&nbsp; d) Method Overriding <br>\n",
        " &nbsp;&nbsp;&nbsp;&nbsp; e) In-Class Exercise #4 - Create a class 'Ford' that inherits from 'Car' class and initialize it as a Blue Ford Explorer with 4 wheels using the super() method <br>\n",
        "7) <b>Classes as Attributes</b> <br>\n",
        "8) <b>Exercises</b> <br>\n",
        " &nbsp;&nbsp;&nbsp;&nbsp; a) Exercise #1 - Turn the shopping cart program from yesterday into an object-oriented program <br>"
      ]
    },
    {
      "cell_type": "markdown",
      "metadata": {
        "id": "v-hDN33YYSY7"
      },
      "source": [
        "## Creating a Class (Initializing/Declaring)\n",
        "<p>When creating a class, function, or even a variable you are initializing that object. Initializing and Declaring occur at the same time in Python, whereas in lower level languages you have to declare an object before initializing it. This is the first step in the process of using a class.</p>"
      ]
    },
    {
      "cell_type": "code",
      "execution_count": null,
      "metadata": {
        "id": "ofjhOHLSYSY8"
      },
      "outputs": [],
      "source": [
        "class Car():\n",
        "    wheels = 4\n",
        "    color = 'blue'"
      ]
    },
    {
      "cell_type": "markdown",
      "metadata": {
        "id": "4Qx_FKQvYSY-"
      },
      "source": [
        "## Using a Class (Instantiating)\n",
        "<p>The process of creating a class is called <i>Instantiating</i>. Each time you create a variable of that type of class, it is referred to as an <i>Instance</i> of that class. This is the second step in the process of using a class.</p>"
      ]
    },
    {
      "cell_type": "markdown",
      "metadata": {
        "id": "RQv4OGIGYSY-"
      },
      "source": [
        "##### Creating One Instance"
      ]
    },
    {
      "cell_type": "code",
      "execution_count": null,
      "metadata": {
        "id": "5gKpriODYSY_"
      },
      "outputs": [],
      "source": [
        "ford = Car()"
      ]
    },
    {
      "cell_type": "markdown",
      "metadata": {
        "id": "jb2FuhJYYSY_"
      },
      "source": [
        "##### Creating Multiple Instances"
      ]
    },
    {
      "cell_type": "code",
      "execution_count": null,
      "metadata": {
        "id": "zrI2nd2ZYSZA"
      },
      "outputs": [],
      "source": []
    },
    {
      "cell_type": "markdown",
      "metadata": {
        "id": "8zGN-R_7YSZA"
      },
      "source": [
        "##### In-Class Exercise #1 - Create a Class 'Car' and Instantiate three different makes of cars"
      ]
    },
    {
      "cell_type": "code",
      "execution_count": null,
      "metadata": {
        "id": "jDIhmM6mYSZB",
        "outputId": "ae2482f1-8106-4e14-a9a3-3f393f9f6e7a",
        "colab": {
          "base_uri": "https://localhost:8080/"
        }
      },
      "outputs": [
        {
          "output_type": "stream",
          "name": "stdout",
          "text": [
            "Brown\n"
          ]
        }
      ],
      "source": [
        "class Car():\n",
        "  Year = 2014\n",
        "  Color = 'Brown'\n",
        "\n",
        "Toyota = Car()\n",
        "Tesla = Car()\n",
        "Jeep = Car()\n",
        "\n",
        "print(Tesla.Color)"
      ]
    },
    {
      "cell_type": "markdown",
      "metadata": {
        "id": "gJFxj33fYSZB"
      },
      "source": [
        "## The \\__init\\__() Method <br>\n",
        "<p>This method is used in almost every created class, and called only once upon the creation of the class instance. This method will initialize all variables needed for the object.</p>"
      ]
    },
    {
      "cell_type": "code",
      "execution_count": null,
      "metadata": {
        "id": "5Vrhsj5-YSZB"
      },
      "outputs": [],
      "source": []
    },
    {
      "cell_type": "markdown",
      "metadata": {
        "id": "JDfsx0D-YSZB"
      },
      "source": [
        "##### The 'self' Attribute <br>\n",
        "<p>This attribute is required to keep track of specific instance's attributes. Without the self attribute, the program would not know how to reference or keep track of an instance's attributes.</p>"
      ]
    },
    {
      "cell_type": "code",
      "execution_count": null,
      "metadata": {
        "id": "1SGkInadYSZB"
      },
      "outputs": [],
      "source": [
        "# see above"
      ]
    },
    {
      "cell_type": "markdown",
      "metadata": {
        "id": "-bR8hjt0YSZC"
      },
      "source": [
        "## Class Attributes <br>\n",
        "<p>While variables are inside of a class, they are referred to as attributes and not variables. When someone says 'attribute' you know they're speaking about a class. Attributes can be initialized through the init method, or outside of it.</p>"
      ]
    },
    {
      "cell_type": "markdown",
      "metadata": {
        "id": "EiY1VfdeYSZC"
      },
      "source": [
        "##### Initializing Attributes"
      ]
    },
    {
      "cell_type": "code",
      "execution_count": null,
      "metadata": {
        "id": "UBQ4Pp5gYSZC"
      },
      "outputs": [],
      "source": [
        "# see above"
      ]
    },
    {
      "cell_type": "markdown",
      "metadata": {
        "id": "27LBgXVgYSZC"
      },
      "source": [
        "##### Accessing Class Attributes"
      ]
    },
    {
      "cell_type": "code",
      "execution_count": null,
      "metadata": {
        "scrolled": true,
        "id": "84ZR3BctYSZD"
      },
      "outputs": [],
      "source": [
        "# See Above"
      ]
    },
    {
      "cell_type": "markdown",
      "metadata": {
        "id": "xv1ClT7pYSZD"
      },
      "source": [
        "##### Setting Defaults for Attributes"
      ]
    },
    {
      "cell_type": "code",
      "execution_count": null,
      "metadata": {
        "id": "f34qwmQUYSZD"
      },
      "outputs": [],
      "source": []
    },
    {
      "cell_type": "markdown",
      "metadata": {
        "id": "254u90fUYSZD"
      },
      "source": [
        "##### Changing Class Attributes <br>\n",
        "<p>Keep in mind there are global class attributes and then there are attributes only available to each class instance which won't effect other classes.</p>"
      ]
    },
    {
      "cell_type": "code",
      "execution_count": null,
      "metadata": {
        "id": "Pw3CsAueYSZD"
      },
      "outputs": [],
      "source": []
    },
    {
      "cell_type": "code",
      "execution_count": null,
      "metadata": {
        "id": "3c9FF6IUYSZE"
      },
      "outputs": [],
      "source": []
    },
    {
      "cell_type": "markdown",
      "metadata": {
        "id": "8j850GLJYSZE"
      },
      "source": [
        "##### In-Class Exercise #2 - Add a doors and seats attribute to your 'Car' class then print out two different instances with different doors and seats"
      ]
    },
    {
      "cell_type": "code",
      "execution_count": null,
      "metadata": {
        "id": "pd6XjpVXYSZE",
        "outputId": "f0a50ba3-2c70-4775-ceb4-d3a55bc472aa",
        "colab": {
          "base_uri": "https://localhost:8080/"
        }
      },
      "outputs": [
        {
          "output_type": "stream",
          "name": "stdout",
          "text": [
            "2\n",
            "4\n",
            "4\n",
            "5\n"
          ]
        }
      ],
      "source": [
        "class Car():\n",
        "\n",
        "  def __init__(self, doors, seats):\n",
        "    self.doors = doors\n",
        "    self.seats = seats\n",
        "\n",
        "Toyota = Car(doors=2, seats=4)\n",
        "Tesla = Car(doors=4, seats=5)\n",
        "\n",
        "print(Toyota.doors)\n",
        "print(Toyota.seats)\n",
        "print(Tesla.doors)\n",
        "print(Tesla.seats)"
      ]
    },
    {
      "cell_type": "markdown",
      "metadata": {
        "id": "6gMr-Qg-YSZE"
      },
      "source": [
        "## Class Methods <br>\n",
        "<p>While inside of a class, functions are referred to as 'methods'. If you hear someone mention methods, they're speaking about classes. Methods are essentially functions, but only callable on the instances of a class.</p>"
      ]
    },
    {
      "cell_type": "markdown",
      "metadata": {
        "id": "RntjRLMXYSZE"
      },
      "source": [
        "##### Creating"
      ]
    },
    {
      "cell_type": "code",
      "execution_count": null,
      "metadata": {
        "id": "RkAis1wLYSZE"
      },
      "outputs": [],
      "source": []
    },
    {
      "cell_type": "markdown",
      "metadata": {
        "id": "ZRoy1tOSYSZF"
      },
      "source": [
        "##### Calling"
      ]
    },
    {
      "cell_type": "code",
      "execution_count": null,
      "metadata": {
        "id": "4-oiTbL3YSZF"
      },
      "outputs": [],
      "source": [
        "# See Above"
      ]
    },
    {
      "cell_type": "markdown",
      "metadata": {
        "id": "t-f5jfBFYSZF"
      },
      "source": [
        "##### Modifying an Attribute's Value Through a Method"
      ]
    },
    {
      "cell_type": "code",
      "execution_count": null,
      "metadata": {
        "id": "PYhmd8sSYSZF"
      },
      "outputs": [],
      "source": []
    },
    {
      "cell_type": "markdown",
      "metadata": {
        "id": "IDWUed_7YSZF"
      },
      "source": [
        "##### Incrementing an Attribute's Value Through a Method"
      ]
    },
    {
      "cell_type": "code",
      "execution_count": null,
      "metadata": {
        "id": "uvXwoLDOYSZF"
      },
      "outputs": [],
      "source": []
    },
    {
      "cell_type": "markdown",
      "metadata": {
        "id": "WhwcGCV8YSZG"
      },
      "source": [
        "##### In-Class Exercise #3 - Add a method that takes in three parameters of year, doors and seats and prints out a formatted print statement with make, model, year, seats, and doors"
      ]
    },
    {
      "cell_type": "code",
      "execution_count": null,
      "metadata": {
        "id": "lbtqXF_rYSZG",
        "outputId": "71361e54-ef25-476d-8291-bb2563316755",
        "colab": {
          "base_uri": "https://localhost:8080/"
        }
      },
      "outputs": [
        {
          "output_type": "stream",
          "name": "stdout",
          "text": [
            "This car is from 2019 and is a Ford Explorer and has 4 doors and 5 seats.\n"
          ]
        }
      ],
      "source": [
        "# Create class with 2 paramters inside of the __init__ which are make and model\n",
        "\n",
        "# Inside of the Car class create a method that has 4 parameter in total (self,year,door,seats)\n",
        "\n",
        "# Output: This car is from 2019 and is a Ford Expolorer and has 4 doors and 5 seats\n",
        "\n",
        "class Car():\n",
        "\n",
        "  def __init__(self, make, model):\n",
        "    self.make = make\n",
        "    self.model = model\n",
        "\n",
        "  def add_details(self, year, doors, seats):\n",
        "    self.year = year\n",
        "    self.doors = doors\n",
        "    self.seats = seats\n",
        "\n",
        "my_car = Car(make = \"Ford Explorer\", model = \"Explorer\")\n",
        "my_car.add_details(year = 2019, doors = 4, seats = 5)\n",
        "\n",
        "print(\"This car is from {} and is a {} and has {} doors and {} seats.\".format(my_car.year, my_car.make, my_car.doors, my_car.seats))"
      ]
    },
    {
      "cell_type": "markdown",
      "source": [],
      "metadata": {
        "id": "_xPV4hixmOkh"
      }
    },
    {
      "cell_type": "markdown",
      "metadata": {
        "id": "D55zJuo8YSZG"
      },
      "source": [
        "## Inheritance <br>\n",
        "<p>You can create a child-parent relationship between two classes by using inheritance. What this allows you to do is have overriding methods, but also inherit traits from the parent class. Think of it as an actual parent and child, the child will inherit the parent's genes, as will the classes in OOP</p>"
      ]
    },
    {
      "cell_type": "markdown",
      "metadata": {
        "id": "LR5H4XcAYSZS"
      },
      "source": [
        "##### Syntax for Inheriting from a Parent Class"
      ]
    },
    {
      "cell_type": "code",
      "execution_count": null,
      "metadata": {
        "id": "9SQ-Int1YSZS"
      },
      "outputs": [],
      "source": []
    },
    {
      "cell_type": "markdown",
      "metadata": {
        "id": "TDcHPhuqYSZS"
      },
      "source": [
        "##### The \\__init\\__() Method for a Child Class - super()"
      ]
    },
    {
      "cell_type": "code",
      "execution_count": null,
      "metadata": {
        "scrolled": true,
        "id": "RQU-pvvcYSZT"
      },
      "outputs": [],
      "source": []
    },
    {
      "cell_type": "markdown",
      "metadata": {
        "id": "pjUMq9S0YSZT"
      },
      "source": [
        "##### Defining Attributes and Methods for the Child Class"
      ]
    },
    {
      "cell_type": "code",
      "execution_count": null,
      "metadata": {
        "id": "US7apX94YSZT"
      },
      "outputs": [],
      "source": [
        "# See Above"
      ]
    },
    {
      "cell_type": "markdown",
      "metadata": {
        "id": "n4a7trbEYSZT"
      },
      "source": [
        "##### Method Overriding"
      ]
    },
    {
      "cell_type": "code",
      "execution_count": null,
      "metadata": {
        "id": "y7npMjmVYSZT"
      },
      "outputs": [],
      "source": [
        "# See Above"
      ]
    },
    {
      "cell_type": "markdown",
      "metadata": {
        "id": "H9onURryYSZU"
      },
      "source": [
        "## Classes as Attributes <br>\n",
        "<p>Classes can also be used as attributes within another class. This is useful in situations where you need to keep variables locally stored, instead of globally stored.</p>"
      ]
    },
    {
      "cell_type": "code",
      "execution_count": null,
      "metadata": {
        "id": "vLmePSqiYSZU"
      },
      "outputs": [],
      "source": []
    },
    {
      "cell_type": "markdown",
      "metadata": {
        "id": "_P-fDnxsYSZU"
      },
      "source": [
        "# Exercises"
      ]
    },
    {
      "cell_type": "markdown",
      "metadata": {
        "id": "z3MSqcJNYSZU"
      },
      "source": [
        "### Exercise 1 - Turn the shopping cart program from yesterday into an object-oriented program\n",
        "\n",
        "The comments in the cell below are there as a guide for thinking about the problem. However, if you feel a different way is best for you and your own thought process, please do what feels best for you by all means."
      ]
    },
    {
      "cell_type": "code",
      "execution_count": null,
      "metadata": {
        "id": "C4hrnWhCYSZU"
      },
      "outputs": [],
      "source": [
        "# Create a class called cart that retains items and has methods to add, remove, and show\n",
        "\n",
        "class Cart():\n",
        "\n",
        "    def __init__(self, items = []):\n",
        "        self.items = items\n",
        "\n",
        "    def showCart(self):\n",
        "      if len(self.items) == 0:\n",
        "        print('Your cart is empty')\n",
        "      else:\n",
        "        print('Your cart contains some items')\n",
        "        for item in self.items:\n",
        "          print(item)\n",
        "\n",
        "    def addToCart(self):\n",
        "        book = input('What course would you like to add? ')\n",
        "        self.items.append(book)\n",
        "        print(f'{book} has been added to your cart')\n",
        "\n",
        "    def removeFromCart(self):\n",
        "        book = input('What course would you like to remove? ')\n",
        "        if book in self.items:\n",
        "            self.items.remove(book)\n",
        "            print(f'{book} has been removed from your cart')\n",
        "        else:\n",
        "            print(f'{book} is not in your cart')"
      ]
    },
    {
      "cell_type": "code",
      "source": [
        "# from above\n",
        "SchoolLibrary = Cart()\n",
        "def run() :\n",
        "  while True:\n",
        "    response = input(\"Do you want to:\\n- Show\\n-Add\\n-remove\\n\")\n",
        "\n",
        "    if response.lower() == \"add\":\n",
        "      SchoolLibrary.addToCart()\n",
        "\n",
        "    elif response.lower() == \"remove\":\n",
        "      SchoolLibrary.removeFromCart()\n",
        "\n",
        "    elif response.lower() == \"show\":\n",
        "      showOption = input('What do you want to see: \\n-Cart')\n",
        "      SchoolLibrary.showCart()\n",
        "    else:\n",
        "      print('Invalid response')\n",
        "\n",
        "run()"
      ],
      "metadata": {
        "id": "urwsXgIausSx",
        "outputId": "5bee30d7-c332-42f6-e287-e37f85945669",
        "colab": {
          "base_uri": "https://localhost:8080/"
        }
      },
      "execution_count": null,
      "outputs": [
        {
          "output_type": "stream",
          "name": "stdout",
          "text": [
            "Do you want to:\n",
            "- Show\n",
            "-Add\n",
            "-remove\n",
            "Add\n",
            "What course would you like to add? BIOI 116\n",
            "BIOI 116 has been added to your cart\n",
            "Do you want to:\n",
            "- Show\n",
            "-Add\n",
            "-remove\n",
            "Add\n",
            "What course would you like to add? Math 125\n",
            "Math 125 has been added to your cart\n",
            "Do you want to:\n",
            "- Show\n",
            "-Add\n",
            "-remove\n",
            "PSYCH 201\n",
            "Invalid response\n",
            "Do you want to:\n",
            "- Show\n",
            "-Add\n",
            "-remove\n",
            "remove\n",
            "What course would you like to remove? BIOI 116\n",
            "BIOI 116 has been removed from your cart\n",
            "Do you want to:\n",
            "- Show\n",
            "-Add\n",
            "-remove\n",
            "Show\n",
            "What do you want to see: \n",
            "-CartCart\n",
            "Your cart contains some items\n",
            "Math 125\n",
            "Do you want to:\n",
            "- Show\n",
            "-Add\n",
            "-remove\n",
            "Add\n",
            "What course would you like to add? PSYCH 201\n",
            "PSYCH 201 has been added to your cart\n",
            "Do you want to:\n",
            "- Show\n",
            "-Add\n",
            "-remove\n",
            "Show\n",
            "What do you want to see: \n",
            "-CartCart\n",
            "Your cart contains some items\n",
            "Math 125\n",
            "PSYCH 201\n"
          ]
        }
      ]
    },
    {
      "cell_type": "markdown",
      "metadata": {
        "id": "zH9IJ-aZYSZV"
      },
      "source": [
        "### Exercise 2 - Write a Python class which has two methods get_String and print_String. get_String accept a string from the user and print_String print the string in upper case"
      ]
    },
    {
      "cell_type": "code",
      "execution_count": 4,
      "metadata": {
        "id": "ckrX87U7YSZV"
      },
      "outputs": [],
      "source": [
        "class Info():\n",
        "  def get_String(self):\n",
        "      return input(\"Enter a string:\")\n",
        "\n"
      ]
    },
    {
      "cell_type": "code",
      "source": [
        "stored_string = Info()\n",
        "\n",
        "accept = input(\"Enter a string: \")\n",
        "print(accept.upper())\n",
        ""
      ],
      "metadata": {
        "colab": {
          "base_uri": "https://localhost:8080/"
        },
        "id": "SH4ZvsgCKgnV",
        "outputId": "cc26e703-7af3-4cfc-9d6f-37873d9d91a4"
      },
      "execution_count": 5,
      "outputs": [
        {
          "output_type": "stream",
          "name": "stdout",
          "text": [
            "Enter a string: password\n",
            "PASSWORD\n"
          ]
        }
      ]
    }
  ],
  "metadata": {
    "kernelspec": {
      "display_name": "Python 3",
      "language": "python",
      "name": "python3"
    },
    "language_info": {
      "codemirror_mode": {
        "name": "ipython",
        "version": 3
      },
      "file_extension": ".py",
      "mimetype": "text/x-python",
      "name": "python",
      "nbconvert_exporter": "python",
      "pygments_lexer": "ipython3",
      "version": "3.8.5"
    },
    "colab": {
      "provenance": []
    }
  },
  "nbformat": 4,
  "nbformat_minor": 0
}